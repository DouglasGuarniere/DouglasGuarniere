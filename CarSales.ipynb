{
  "nbformat": 4,
  "nbformat_minor": 0,
  "metadata": {
    "colab": {
      "provenance": [],
      "authorship_tag": "ABX9TyM+U4b/U7O2Dwcs536lrewn",
      "include_colab_link": true
    },
    "kernelspec": {
      "name": "python3",
      "display_name": "Python 3"
    },
    "language_info": {
      "name": "python"
    }
  },
  "cells": [
    {
      "cell_type": "markdown",
      "metadata": {
        "id": "view-in-github",
        "colab_type": "text"
      },
      "source": [
        "<a href=\"https://colab.research.google.com/github/DouglasGuarniere/DouglasGuarniere/blob/main/CarSales.ipynb\" target=\"_parent\"><img src=\"https://colab.research.google.com/assets/colab-badge.svg\" alt=\"Open In Colab\"/></a>"
      ]
    },
    {
      "cell_type": "code",
      "execution_count": 1,
      "metadata": {
        "id": "0AizHQY_Kdw3"
      },
      "outputs": [],
      "source": [
        "import pandas as pd"
      ]
    },
    {
      "cell_type": "markdown",
      "source": [
        "### Importando um arquivo csv"
      ],
      "metadata": {
        "id": "jKb_NYLpKvvk"
      }
    },
    {
      "cell_type": "code",
      "source": [
        "carsales = pd.read_csv('/Car_sales.csv')"
      ],
      "metadata": {
        "id": "EifHf0axKzoL"
      },
      "execution_count": 13,
      "outputs": []
    },
    {
      "cell_type": "markdown",
      "source": [
        "### Dados Simples do Data Frame"
      ],
      "metadata": {
        "id": "_VoNAXdZLJh8"
      }
    },
    {
      "cell_type": "code",
      "source": [
        "display(carsales.describe())"
      ],
      "metadata": {
        "colab": {
          "base_uri": "https://localhost:8080/",
          "height": 344
        },
        "id": "HfkKTSQeLNVE",
        "outputId": "7c2a570e-9356-46b2-b50e-9d48b325d71d"
      },
      "execution_count": 14,
      "outputs": [
        {
          "output_type": "display_data",
          "data": {
            "text/plain": [
              "       Sales_in_thousands  __year_resale_value  Price_in_thousands  \\\n",
              "count          157.000000           121.000000          155.000000   \n",
              "mean            52.998076            18.072975           27.390755   \n",
              "std             68.029422            11.453384           14.351653   \n",
              "min              0.110000             5.160000            9.235000   \n",
              "25%             14.114000            11.260000           18.017500   \n",
              "50%             29.450000            14.180000           22.799000   \n",
              "75%             67.956000            19.875000           31.947500   \n",
              "max            540.561000            67.550000           85.500000   \n",
              "\n",
              "       Engine_size  Horsepower   Wheelbase       Width      Length  \\\n",
              "count   156.000000  156.000000  156.000000  156.000000  156.000000   \n",
              "mean      3.060897  185.948718  107.487179   71.150000  187.343590   \n",
              "std       1.044653   56.700321    7.641303    3.451872   13.431754   \n",
              "min       1.000000   55.000000   92.600000   62.600000  149.400000   \n",
              "25%       2.300000  149.500000  103.000000   68.400000  177.575000   \n",
              "50%       3.000000  177.500000  107.000000   70.550000  187.900000   \n",
              "75%       3.575000  215.000000  112.200000   73.425000  196.125000   \n",
              "max       8.000000  450.000000  138.700000   79.900000  224.500000   \n",
              "\n",
              "       Curb_weight  Fuel_capacity  Fuel_efficiency  Power_perf_factor  \n",
              "count   155.000000     156.000000       154.000000         155.000000  \n",
              "mean      3.378026      17.951923        23.844156          77.043591  \n",
              "std       0.630502       3.887921         4.282706          25.142664  \n",
              "min       1.895000      10.300000        15.000000          23.276272  \n",
              "25%       2.971000      15.800000        21.000000          60.407707  \n",
              "50%       3.342000      17.200000        24.000000          72.030917  \n",
              "75%       3.799500      19.575000        26.000000          89.414878  \n",
              "max       5.572000      32.000000        45.000000         188.144323  "
            ],
            "text/html": [
              "\n",
              "  <div id=\"df-64076266-bf91-480e-b376-a912b42be423\">\n",
              "    <div class=\"colab-df-container\">\n",
              "      <div>\n",
              "<style scoped>\n",
              "    .dataframe tbody tr th:only-of-type {\n",
              "        vertical-align: middle;\n",
              "    }\n",
              "\n",
              "    .dataframe tbody tr th {\n",
              "        vertical-align: top;\n",
              "    }\n",
              "\n",
              "    .dataframe thead th {\n",
              "        text-align: right;\n",
              "    }\n",
              "</style>\n",
              "<table border=\"1\" class=\"dataframe\">\n",
              "  <thead>\n",
              "    <tr style=\"text-align: right;\">\n",
              "      <th></th>\n",
              "      <th>Sales_in_thousands</th>\n",
              "      <th>__year_resale_value</th>\n",
              "      <th>Price_in_thousands</th>\n",
              "      <th>Engine_size</th>\n",
              "      <th>Horsepower</th>\n",
              "      <th>Wheelbase</th>\n",
              "      <th>Width</th>\n",
              "      <th>Length</th>\n",
              "      <th>Curb_weight</th>\n",
              "      <th>Fuel_capacity</th>\n",
              "      <th>Fuel_efficiency</th>\n",
              "      <th>Power_perf_factor</th>\n",
              "    </tr>\n",
              "  </thead>\n",
              "  <tbody>\n",
              "    <tr>\n",
              "      <th>count</th>\n",
              "      <td>157.000000</td>\n",
              "      <td>121.000000</td>\n",
              "      <td>155.000000</td>\n",
              "      <td>156.000000</td>\n",
              "      <td>156.000000</td>\n",
              "      <td>156.000000</td>\n",
              "      <td>156.000000</td>\n",
              "      <td>156.000000</td>\n",
              "      <td>155.000000</td>\n",
              "      <td>156.000000</td>\n",
              "      <td>154.000000</td>\n",
              "      <td>155.000000</td>\n",
              "    </tr>\n",
              "    <tr>\n",
              "      <th>mean</th>\n",
              "      <td>52.998076</td>\n",
              "      <td>18.072975</td>\n",
              "      <td>27.390755</td>\n",
              "      <td>3.060897</td>\n",
              "      <td>185.948718</td>\n",
              "      <td>107.487179</td>\n",
              "      <td>71.150000</td>\n",
              "      <td>187.343590</td>\n",
              "      <td>3.378026</td>\n",
              "      <td>17.951923</td>\n",
              "      <td>23.844156</td>\n",
              "      <td>77.043591</td>\n",
              "    </tr>\n",
              "    <tr>\n",
              "      <th>std</th>\n",
              "      <td>68.029422</td>\n",
              "      <td>11.453384</td>\n",
              "      <td>14.351653</td>\n",
              "      <td>1.044653</td>\n",
              "      <td>56.700321</td>\n",
              "      <td>7.641303</td>\n",
              "      <td>3.451872</td>\n",
              "      <td>13.431754</td>\n",
              "      <td>0.630502</td>\n",
              "      <td>3.887921</td>\n",
              "      <td>4.282706</td>\n",
              "      <td>25.142664</td>\n",
              "    </tr>\n",
              "    <tr>\n",
              "      <th>min</th>\n",
              "      <td>0.110000</td>\n",
              "      <td>5.160000</td>\n",
              "      <td>9.235000</td>\n",
              "      <td>1.000000</td>\n",
              "      <td>55.000000</td>\n",
              "      <td>92.600000</td>\n",
              "      <td>62.600000</td>\n",
              "      <td>149.400000</td>\n",
              "      <td>1.895000</td>\n",
              "      <td>10.300000</td>\n",
              "      <td>15.000000</td>\n",
              "      <td>23.276272</td>\n",
              "    </tr>\n",
              "    <tr>\n",
              "      <th>25%</th>\n",
              "      <td>14.114000</td>\n",
              "      <td>11.260000</td>\n",
              "      <td>18.017500</td>\n",
              "      <td>2.300000</td>\n",
              "      <td>149.500000</td>\n",
              "      <td>103.000000</td>\n",
              "      <td>68.400000</td>\n",
              "      <td>177.575000</td>\n",
              "      <td>2.971000</td>\n",
              "      <td>15.800000</td>\n",
              "      <td>21.000000</td>\n",
              "      <td>60.407707</td>\n",
              "    </tr>\n",
              "    <tr>\n",
              "      <th>50%</th>\n",
              "      <td>29.450000</td>\n",
              "      <td>14.180000</td>\n",
              "      <td>22.799000</td>\n",
              "      <td>3.000000</td>\n",
              "      <td>177.500000</td>\n",
              "      <td>107.000000</td>\n",
              "      <td>70.550000</td>\n",
              "      <td>187.900000</td>\n",
              "      <td>3.342000</td>\n",
              "      <td>17.200000</td>\n",
              "      <td>24.000000</td>\n",
              "      <td>72.030917</td>\n",
              "    </tr>\n",
              "    <tr>\n",
              "      <th>75%</th>\n",
              "      <td>67.956000</td>\n",
              "      <td>19.875000</td>\n",
              "      <td>31.947500</td>\n",
              "      <td>3.575000</td>\n",
              "      <td>215.000000</td>\n",
              "      <td>112.200000</td>\n",
              "      <td>73.425000</td>\n",
              "      <td>196.125000</td>\n",
              "      <td>3.799500</td>\n",
              "      <td>19.575000</td>\n",
              "      <td>26.000000</td>\n",
              "      <td>89.414878</td>\n",
              "    </tr>\n",
              "    <tr>\n",
              "      <th>max</th>\n",
              "      <td>540.561000</td>\n",
              "      <td>67.550000</td>\n",
              "      <td>85.500000</td>\n",
              "      <td>8.000000</td>\n",
              "      <td>450.000000</td>\n",
              "      <td>138.700000</td>\n",
              "      <td>79.900000</td>\n",
              "      <td>224.500000</td>\n",
              "      <td>5.572000</td>\n",
              "      <td>32.000000</td>\n",
              "      <td>45.000000</td>\n",
              "      <td>188.144323</td>\n",
              "    </tr>\n",
              "  </tbody>\n",
              "</table>\n",
              "</div>\n",
              "      <button class=\"colab-df-convert\" onclick=\"convertToInteractive('df-64076266-bf91-480e-b376-a912b42be423')\"\n",
              "              title=\"Convert this dataframe to an interactive table.\"\n",
              "              style=\"display:none;\">\n",
              "        \n",
              "  <svg xmlns=\"http://www.w3.org/2000/svg\" height=\"24px\"viewBox=\"0 0 24 24\"\n",
              "       width=\"24px\">\n",
              "    <path d=\"M0 0h24v24H0V0z\" fill=\"none\"/>\n",
              "    <path d=\"M18.56 5.44l.94 2.06.94-2.06 2.06-.94-2.06-.94-.94-2.06-.94 2.06-2.06.94zm-11 1L8.5 8.5l.94-2.06 2.06-.94-2.06-.94L8.5 2.5l-.94 2.06-2.06.94zm10 10l.94 2.06.94-2.06 2.06-.94-2.06-.94-.94-2.06-.94 2.06-2.06.94z\"/><path d=\"M17.41 7.96l-1.37-1.37c-.4-.4-.92-.59-1.43-.59-.52 0-1.04.2-1.43.59L10.3 9.45l-7.72 7.72c-.78.78-.78 2.05 0 2.83L4 21.41c.39.39.9.59 1.41.59.51 0 1.02-.2 1.41-.59l7.78-7.78 2.81-2.81c.8-.78.8-2.07 0-2.86zM5.41 20L4 18.59l7.72-7.72 1.47 1.35L5.41 20z\"/>\n",
              "  </svg>\n",
              "      </button>\n",
              "      \n",
              "  <style>\n",
              "    .colab-df-container {\n",
              "      display:flex;\n",
              "      flex-wrap:wrap;\n",
              "      gap: 12px;\n",
              "    }\n",
              "\n",
              "    .colab-df-convert {\n",
              "      background-color: #E8F0FE;\n",
              "      border: none;\n",
              "      border-radius: 50%;\n",
              "      cursor: pointer;\n",
              "      display: none;\n",
              "      fill: #1967D2;\n",
              "      height: 32px;\n",
              "      padding: 0 0 0 0;\n",
              "      width: 32px;\n",
              "    }\n",
              "\n",
              "    .colab-df-convert:hover {\n",
              "      background-color: #E2EBFA;\n",
              "      box-shadow: 0px 1px 2px rgba(60, 64, 67, 0.3), 0px 1px 3px 1px rgba(60, 64, 67, 0.15);\n",
              "      fill: #174EA6;\n",
              "    }\n",
              "\n",
              "    [theme=dark] .colab-df-convert {\n",
              "      background-color: #3B4455;\n",
              "      fill: #D2E3FC;\n",
              "    }\n",
              "\n",
              "    [theme=dark] .colab-df-convert:hover {\n",
              "      background-color: #434B5C;\n",
              "      box-shadow: 0px 1px 3px 1px rgba(0, 0, 0, 0.15);\n",
              "      filter: drop-shadow(0px 1px 2px rgba(0, 0, 0, 0.3));\n",
              "      fill: #FFFFFF;\n",
              "    }\n",
              "  </style>\n",
              "\n",
              "      <script>\n",
              "        const buttonEl =\n",
              "          document.querySelector('#df-64076266-bf91-480e-b376-a912b42be423 button.colab-df-convert');\n",
              "        buttonEl.style.display =\n",
              "          google.colab.kernel.accessAllowed ? 'block' : 'none';\n",
              "\n",
              "        async function convertToInteractive(key) {\n",
              "          const element = document.querySelector('#df-64076266-bf91-480e-b376-a912b42be423');\n",
              "          const dataTable =\n",
              "            await google.colab.kernel.invokeFunction('convertToInteractive',\n",
              "                                                     [key], {});\n",
              "          if (!dataTable) return;\n",
              "\n",
              "          const docLinkHtml = 'Like what you see? Visit the ' +\n",
              "            '<a target=\"_blank\" href=https://colab.research.google.com/notebooks/data_table.ipynb>data table notebook</a>'\n",
              "            + ' to learn more about interactive tables.';\n",
              "          element.innerHTML = '';\n",
              "          dataTable['output_type'] = 'display_data';\n",
              "          await google.colab.output.renderOutput(dataTable, element);\n",
              "          const docLink = document.createElement('div');\n",
              "          docLink.innerHTML = docLinkHtml;\n",
              "          element.appendChild(docLink);\n",
              "        }\n",
              "      </script>\n",
              "    </div>\n",
              "  </div>\n",
              "  "
            ]
          },
          "metadata": {}
        }
      ]
    },
    {
      "cell_type": "markdown",
      "source": [
        "### Calculando Indicadores"
      ],
      "metadata": {
        "id": "9UhaHslFUpeo"
      }
    },
    {
      "cell_type": "code",
      "source": [
        "sales_in_thousands = carsales['Manufacturer'].value_counts()\n",
        "display(sales_in_thousands)"
      ],
      "metadata": {
        "colab": {
          "base_uri": "https://localhost:8080/",
          "height": 555
        },
        "id": "njJQ42kJUwWR",
        "outputId": "8af6598d-2f58-4575-af77-35baf4c9c71d"
      },
      "execution_count": 45,
      "outputs": [
        {
          "output_type": "display_data",
          "data": {
            "text/plain": [
              "Dodge         11\n",
              "Ford          11\n",
              "Toyota         9\n",
              "Chevrolet      9\n",
              "Mercedes-B     9\n",
              "Mitsubishi     7\n",
              "Nissan         7\n",
              "Chrysler       7\n",
              "Volvo          6\n",
              "Oldsmobile     6\n",
              "Lexus          6\n",
              "Mercury        6\n",
              "Pontiac        6\n",
              "Volkswagen     6\n",
              "Saturn         5\n",
              "Cadillac       5\n",
              "Honda          5\n",
              "Plymouth       4\n",
              "Acura          4\n",
              "Buick          4\n",
              "Audi           3\n",
              "Jeep           3\n",
              "Porsche        3\n",
              "Hyundai        3\n",
              "BMW            3\n",
              "Lincoln        3\n",
              "Saab           2\n",
              "Subaru         2\n",
              "Jaguar         1\n",
              "Infiniti       1\n",
              "Name: Manufacturer, dtype: int64"
            ]
          },
          "metadata": {}
        }
      ]
    },
    {
      "cell_type": "markdown",
      "source": [
        "### Importando Biblioteca de Gráfico"
      ],
      "metadata": {
        "id": "UzxrEnGiLcuk"
      }
    },
    {
      "cell_type": "code",
      "source": [
        "import matplotlib.pyplot as plt"
      ],
      "metadata": {
        "id": "VaH-x9g_LlAr"
      },
      "execution_count": 6,
      "outputs": []
    },
    {
      "cell_type": "markdown",
      "source": [
        "### Gerando Gráfico"
      ],
      "metadata": {
        "id": "O4pTEUaTSeNy"
      }
    },
    {
      "cell_type": "code",
      "source": [
        "import matplotlib.pyplot as plt\n",
        "\n",
        "# Pie chart, where the slices will be ordered and plotted counter-clockwise:\n",
        "labels = 'Dodge', 'Toyota', 'Honda', 'BMW'\n",
        "sizes = [11, 9, 5, 3]\n",
        "explode = (0, 0.1, 0, 0)  # only \"explode\" the 2nd slice (i.e. 'Hogs')\n",
        "\n",
        "fig1, ax1 = plt.subplots()\n",
        "ax1.pie(sizes, explode=explode, labels=labels, autopct='%1.1f%%',\n",
        "        shadow=True, startangle=90)\n",
        "ax1.axis('equal')  # Equal aspect ratio ensures that pie is drawn as a circle.\n",
        "\n",
        "plt.show()"
      ],
      "metadata": {
        "colab": {
          "base_uri": "https://localhost:8080/",
          "height": 406
        },
        "id": "HA-wrsibShW5",
        "outputId": "b78eb74e-fe41-4753-a119-ea4ea28b84ca"
      },
      "execution_count": 46,
      "outputs": [
        {
          "output_type": "display_data",
          "data": {
            "text/plain": [
              "<Figure size 640x480 with 1 Axes>"
            ],
            "image/png": "[encoded data removed]"
          },
          "metadata": {}
        }
      ]
    }
  ]
}